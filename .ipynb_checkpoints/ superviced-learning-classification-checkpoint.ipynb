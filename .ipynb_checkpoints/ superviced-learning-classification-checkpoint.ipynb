{
 "cells": [
  {
   "cell_type": "code",
   "execution_count": 1,
   "id": "11ed00cc",
   "metadata": {},
   "outputs": [],
   "source": [
    "import pandas as pd\n",
    "import numpy as np\n",
    "from sklearn.model_selection import train_test_split, GridSearchCV\n",
    "from sklearn.preprocessing import StandardScaler, LabelEncoder\n",
    "from sklearn.linear_model import LogisticRegression\n",
    "from sklearn.metrics import accuracy_score, precision_score, recall_score, f1_score\n",
    "from sklearn.ensemble import RandomForestClassifier\n",
    "from sklearn.feature_selection import RFE"
   ]
  },
  {
   "cell_type": "code",
   "execution_count": 2,
   "id": "d080ea96",
   "metadata": {},
   "outputs": [],
   "source": [
    "data = pd.read_csv('Telco-Customer-Churn.csv')\n"
   ]
  },
  {
   "cell_type": "code",
   "execution_count": 3,
   "id": "af449b50",
   "metadata": {},
   "outputs": [],
   "source": [
    "data['TotalCharges'] = pd.to_numeric(data['TotalCharges'], errors='coerce')\n",
    "data['TotalCharges'].fillna(data['TotalCharges'].mean(), inplace=True)\n",
    "\n",
    "for column in data.select_dtypes(include=['object']):\n",
    "    if column != 'customerID':\n",
    "        data[column] = LabelEncoder().fit_transform(data[column])\n"
   ]
  },
  {
   "cell_type": "code",
   "execution_count": 4,
   "id": "b78cacb3",
   "metadata": {},
   "outputs": [],
   "source": [
    "X = data.drop(['customerID', 'Churn'], axis=1)\n",
    "y = data['Churn']\n",
    "X_train, X_test, y_train, y_test = train_test_split(X, y, test_size=0.3, random_state=42)\n"
   ]
  },
  {
   "cell_type": "code",
   "execution_count": 5,
   "id": "020d2e59",
   "metadata": {},
   "outputs": [],
   "source": [
    "scaler = StandardScaler()\n",
    "X_train = scaler.fit_transform(X_train)\n",
    "X_test = scaler.transform(X_test)"
   ]
  },
  {
   "cell_type": "code",
   "execution_count": 6,
   "id": "19f0795d",
   "metadata": {},
   "outputs": [],
   "source": [
    "logreg = LogisticRegression()\n",
    "logreg.fit(X_train, y_train)\n",
    "logreg_preds = logreg.predict(X_test)\n",
    "\n",
    "rf = RandomForestClassifier()\n",
    "rf.fit(X_train, y_train)\n",
    "rf_preds = rf.predict(X_test)\n"
   ]
  },
  {
   "cell_type": "code",
   "execution_count": 7,
   "id": "812b703c",
   "metadata": {},
   "outputs": [],
   "source": [
    "logreg_accuracy = accuracy_score(y_test, logreg_preds)\n",
    "logreg_precision = precision_score(y_test, logreg_preds)\n",
    "logreg_recall = recall_score(y_test, logreg_preds)\n",
    "logreg_f1 = f1_score(y_test, logreg_preds)\n",
    "\n",
    "rf_accuracy = accuracy_score(y_test, rf_preds)\n",
    "rf_precision = precision_score(y_test, rf_preds)\n",
    "rf_recall = recall_score(y_test, rf_preds)\n",
    "rf_f1 = f1_score(y_test, rf_preds)"
   ]
  },
  {
   "cell_type": "code",
   "execution_count": 8,
   "id": "b62ab762",
   "metadata": {},
   "outputs": [
    {
     "name": "stdout",
     "output_type": "stream",
     "text": [
      "Logistic Regression - Accuracy: 0.8106956933270232, Precision: 0.68125, Recall: 0.5696864111498258, F1: 0.6204933586337761\n",
      "Random Forest - Accuracy: 0.795551348793185, Precision: 0.678391959798995, Recall: 0.47038327526132406, F1: 0.5555555555555556\n"
     ]
    }
   ],
   "source": [
    "print(f\"Logistic Regression - Accuracy: {logreg_accuracy}, Precision: {logreg_precision}, Recall: {logreg_recall}, F1: {logreg_f1}\")\n",
    "print(f\"Random Forest - Accuracy: {rf_accuracy}, Precision: {rf_precision}, Recall: {rf_recall}, F1: {rf_f1}\")\n"
   ]
  },
  {
   "cell_type": "code",
   "execution_count": 9,
   "id": "7d4eec84",
   "metadata": {},
   "outputs": [],
   "source": [
    "param_grid = {'n_estimators': [10, 50, 100], 'max_depth': [None, 10, 20]}\n",
    "grid_search = GridSearchCV(RandomForestClassifier(), param_grid, cv=5)\n",
    "grid_search.fit(X_train, y_train)\n",
    "best_params = grid_search.best_params_"
   ]
  },
  {
   "cell_type": "code",
   "execution_count": 10,
   "id": "c910a597",
   "metadata": {},
   "outputs": [],
   "source": [
    "rfe = RFE(RandomForestClassifier(**best_params), n_features_to_select=10)\n",
    "X_train_rfe = rfe.fit_transform(X_train, y_train)\n",
    "X_test_rfe = rfe.transform(X_test)\n",
    "\n",
    "rf_optimized = RandomForestClassifier(**best_params)\n",
    "rf_optimized.fit(X_train_rfe, y_train)\n",
    "rf_optimized_preds = rf_optimized.predict(X_test_rfe)"
   ]
  },
  {
   "cell_type": "code",
   "execution_count": 11,
   "id": "d8b7164b",
   "metadata": {},
   "outputs": [],
   "source": [
    "rf_optimized_accuracy = accuracy_score(y_test, rf_optimized_preds)\n",
    "rf_optimized_precision = precision_score(y_test, rf_optimized_preds)\n",
    "rf_optimized_recall = recall_score(y_test, rf_optimized_preds)\n",
    "rf_optimized_f1 = f1_score(y_test, rf_optimized_preds)\n"
   ]
  },
  {
   "cell_type": "code",
   "execution_count": 12,
   "id": "39d7a79d",
   "metadata": {},
   "outputs": [
    {
     "name": "stdout",
     "output_type": "stream",
     "text": [
      "Optimized Random Forest - Accuracy: 0.7974443918599148, Precision: 0.6622222222222223, Recall: 0.519163763066202, F1: 0.58203125\n"
     ]
    }
   ],
   "source": [
    "print(f\"Optimized Random Forest - Accuracy: {rf_optimized_accuracy}, Precision: {rf_optimized_precision}, Recall: {rf_optimized_recall}, F1: {rf_optimized_f1}\")"
   ]
  },
  {
   "cell_type": "code",
   "execution_count": 13,
   "id": "0aa0af94",
   "metadata": {},
   "outputs": [],
   "source": [
    "important_features = pd.Series(rf_optimized.feature_importances_, index=X.columns[rfe.support_])\n",
    "important_features = important_features.sort_values(ascending=False)\n"
   ]
  },
  {
   "cell_type": "code",
   "execution_count": 14,
   "id": "5215becc",
   "metadata": {},
   "outputs": [
    {
     "name": "stdout",
     "output_type": "stream",
     "text": [
      "\n",
      "Important Features:\n",
      "TotalCharges        0.193716\n",
      "tenure              0.190013\n",
      "MonthlyCharges      0.187506\n",
      "Contract            0.147998\n",
      "OnlineSecurity      0.072222\n",
      "TechSupport         0.070567\n",
      "PaymentMethod       0.050447\n",
      "InternetService     0.032488\n",
      "OnlineBackup        0.027922\n",
      "PaperlessBilling    0.027121\n",
      "dtype: float64\n"
     ]
    }
   ],
   "source": [
    "print(\"\\nImportant Features:\")\n",
    "print(important_features)\n"
   ]
  },
  {
   "cell_type": "code",
   "execution_count": 15,
   "id": "930f6d97",
   "metadata": {},
   "outputs": [
    {
     "name": "stdout",
     "output_type": "stream",
     "text": [
      "\n",
      "Based on the evaluation metrics, the Optimized Random Forest model performs the best.\n",
      "The top features contributing to customer churn prediction are:\n",
      "TotalCharges      0.193716\n",
      "tenure            0.190013\n",
      "MonthlyCharges    0.187506\n",
      "Contract          0.147998\n",
      "OnlineSecurity    0.072222\n",
      "dtype: float64\n"
     ]
    }
   ],
   "source": [
    "print(\"\\nBased on the evaluation metrics, the Optimized Random Forest model performs the best.\")\n",
    "print(\"The top features contributing to customer churn prediction are:\")\n",
    "print(important_features.head(5))"
   ]
  },
  {
   "cell_type": "code",
   "execution_count": null,
   "id": "b17b7e47",
   "metadata": {},
   "outputs": [],
   "source": []
  }
 ],
 "metadata": {
  "kernelspec": {
   "display_name": "Python 3 (ipykernel)",
   "language": "python",
   "name": "python3"
  },
  "language_info": {
   "codemirror_mode": {
    "name": "ipython",
    "version": 3
   },
   "file_extension": ".py",
   "mimetype": "text/x-python",
   "name": "python",
   "nbconvert_exporter": "python",
   "pygments_lexer": "ipython3",
   "version": "3.10.9"
  }
 },
 "nbformat": 4,
 "nbformat_minor": 5
}
